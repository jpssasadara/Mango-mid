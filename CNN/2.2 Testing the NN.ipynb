{
 "cells": [
  {
   "cell_type": "code",
   "execution_count": 15,
   "metadata": {},
   "outputs": [],
   "source": [
    "from keras.models import Sequential\n",
    "from keras.layers import Dense,Activation,Flatten,Dropout\n",
    "from keras.layers import Conv2D,MaxPooling2D\n",
    "\n",
    "def load_cnn():\n",
    "    \n",
    "    model=Sequential()\n",
    "\n",
    "    model.add(Conv2D(256,(3,3),input_shape=( 50, 50, 3)))\n",
    "    model.add(Activation('relu'))\n",
    "    model.add(MaxPooling2D(pool_size=(2,2)))\n",
    "    #The first CNN layer followed by Relu and MaxPooling layers\n",
    "    \n",
    "    model.add(Dropout(0.5))\n",
    "    \n",
    "    model.add(Conv2D(128,(3,3)))\n",
    "    model.add(Activation('relu'))\n",
    "    model.add(MaxPooling2D(pool_size=(2,2)))\n",
    "    #The second convolution layer followed by Relu and MaxPooling layers\n",
    "\n",
    "    model.add(Dropout(0.5))\n",
    "    \n",
    "    model.add(Flatten())\n",
    "    #Flatten layer to stack the output convolutions from second convolution layer\n",
    "    model.add(Dense(64,activation='relu'))\n",
    "    #Dense layer of 64 neurons\n",
    "    model.add(Dense(4,activation='softmax'))\n",
    "    #The Final layer with two outputs for two categories\n",
    "\n",
    "    model.compile(loss='categorical_crossentropy',optimizer='adam',metrics=['accuracy'])\n",
    "    \n",
    "    \n",
    "    model.load_weights('Mango_v1.h5')\n",
    "    \n",
    "    return model"
   ]
  },
  {
   "cell_type": "code",
   "execution_count": 17,
   "metadata": {},
   "outputs": [
    {
     "name": "stdout",
     "output_type": "stream",
     "text": [
      "shape (50, 50, 3)\n",
      "[[3.2350114e-18 1.4468733e-07 2.5218508e-08 9.9999988e-01]] 3 100.0\n",
      "shape (50, 50, 3)\n",
      "[[8.0220238e-13 1.7730300e-06 3.3308303e-09 9.9999821e-01]] 3 100.0\n",
      "shape (50, 50, 3)\n",
      "[[2.1959268e-08 2.1841850e-04 9.9978119e-01 3.2297663e-07]] 2 100.0\n",
      "shape (50, 50, 3)\n",
      "[[1.5140407e-06 9.9999785e-01 9.2773043e-08 4.9172786e-07]] 1 100.0\n",
      "shape (50, 50, 3)\n",
      "[[8.0067283e-03 9.9196965e-01 2.3605333e-05 1.0852385e-08]] 1 99.00000095367432\n",
      "shape (50, 50, 3)\n",
      "[[9.8516023e-01 1.4839655e-02 1.3191410e-10 8.0905508e-08]] 0 99.00000095367432\n",
      "shape (50, 50, 3)\n",
      "[[9.6761596e-01 3.2382526e-02 1.2006658e-06 3.4035543e-07]] 0 97.00000286102295\n"
     ]
    }
   ],
   "source": [
    "import cv2,os\n",
    "import numpy as np\n",
    "\n",
    "test_path='test1'\n",
    "\n",
    "img_names=os.listdir(test_path)\n",
    "\n",
    "model=load_cnn()\n",
    "\n",
    "category={0:'grade 1',1:'grade 2',2: 'grade 2-S', 3: 'grade 3'}\n",
    "\n",
    "for img_name in img_names:\n",
    "    img_path=os.path.join(test_path,img_name)\n",
    "    img=cv2.imread(img_path)\n",
    "    gray = img\n",
    "    #gray=cv2.cvtColor(img,cv2.COLOR_BGR2GRAY)\n",
    "    resized=cv2.resize(gray,(50,50))\n",
    "    print('shape',resized.shape)\n",
    "    normalized=resized/255.0\n",
    "    reshaped=np.reshape(normalized,(1,50,50,3))\n",
    "    result=model.predict(reshaped)\n",
    "    label=np.argmax(result,axis=1)[0]\n",
    "    prob=np.max(result,axis=1)[0]\n",
    "    prob=round(prob,2)*100\n",
    "    \n",
    "    img[:50,:]=[0,255,0]\n",
    "    img=cv2.resize(img,(750,500))\n",
    "    \n",
    "    cv2.putText(img,str(category[label]),(10,40),cv2.FONT_HERSHEY_SIMPLEX,2,\n",
    "                (255,255,255),2)\n",
    "    \n",
    "    cv2.putText(img,str(prob),(300,40),cv2.FONT_HERSHEY_SIMPLEX,2,\n",
    "                (255,255,255),2)\n",
    "    \n",
    "    cv2.imshow('LIVE',img)\n",
    "    cv2.waitKey(1000)\n",
    "    \n",
    "    print(result,label,prob),"
   ]
  },
  {
   "cell_type": "code",
   "execution_count": 18,
   "metadata": {},
   "outputs": [
    {
     "data": {
      "text/plain": [
       "(500, 750, 3)"
      ]
     },
     "execution_count": 18,
     "metadata": {},
     "output_type": "execute_result"
    }
   ],
   "source": [
    "img.shape"
   ]
  },
  {
   "cell_type": "code",
   "execution_count": null,
   "metadata": {},
   "outputs": [],
   "source": []
  },
  {
   "cell_type": "code",
   "execution_count": null,
   "metadata": {},
   "outputs": [],
   "source": []
  }
 ],
 "metadata": {
  "kernelspec": {
   "display_name": "Python 3",
   "language": "python",
   "name": "python3"
  },
  "language_info": {
   "codemirror_mode": {
    "name": "ipython",
    "version": 3
   },
   "file_extension": ".py",
   "mimetype": "text/x-python",
   "name": "python",
   "nbconvert_exporter": "python",
   "pygments_lexer": "ipython3",
   "version": "3.7.3"
  }
 },
 "nbformat": 4,
 "nbformat_minor": 2
}
